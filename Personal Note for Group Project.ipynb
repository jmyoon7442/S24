{
  "nbformat": 4,
  "nbformat_minor": 0,
  "metadata": {
    "colab": {
      "provenance": [],
      "authorship_tag": "ABX9TyMA7sXEIscl1VrjGs0t2X9f",
      "include_colab_link": true
    },
    "kernelspec": {
      "name": "python3",
      "display_name": "Python 3"
    },
    "language_info": {
      "name": "python"
    }
  },
  "cells": [
    {
      "cell_type": "markdown",
      "metadata": {
        "id": "view-in-github",
        "colab_type": "text"
      },
      "source": [
        "<a href=\"https://colab.research.google.com/github/jmyoon7442/S24/blob/main/Personal%20Note%20for%20Group%20Project.ipynb\" target=\"_parent\"><img src=\"https://colab.research.google.com/assets/colab-badge.svg\" alt=\"Open In Colab\"/></a>"
      ]
    },
    {
      "cell_type": "markdown",
      "source": [
        "\n",
        "🔗 Github account of Group 5\n",
        "\n",
        "+ 윤정민  https://github.com/jmyoon7442\n",
        "+ 이다혜  https://github.com/dhlee3146\n",
        "+ 노하정  https://github.com/Norhajeong\n",
        "+ Repository  https://github.com/dhlee3146/Group-5\n",
        "\n",
        "\n",
        "📋 일정\n",
        "\n",
        "+ 4/9 Tue 발표"
      ],
      "metadata": {
        "id": "lfhGZSddd8BN"
      }
    }
  ]
}

---

Script for Video (Gernerated by Steave)

Introduction: AnkiWeb - A powerful digital tool for enhancing English vocabulary.

AnkiWeb facilitates efficient memorization of English words through digital practice.

Engage in effective vocabulary learning with AnkiWeb's user-friendly interface.

AnkiWeb offers versatility in practicing and retaining English vocabulary.

Personalize your English learning journey using AnkiWeb's adaptable features.

AnkiWeb streamlines the process of memorizing English words for learners.

Enhance your English vocabulary skills with the interactive platform of AnkiWeb.

AnkiWeb optimizes vocabulary retention through spaced repetition techniques.

Discover the convenience of AnkiWeb for mastering English vocabulary effectively.

AnkiWeb's digital tool empowers learners to excel in English word memorization.

Efficiently boost your English vocabulary proficiency with AnkiWeb's innovative approach.

AnkiWeb provides a dynamic and engaging method to enhance English word retention.

Unlock the potential of your English vocabulary growth using AnkiWeb.

Experience accelerated progress in mastering English vocabulary with AnkiWeb.

AnkiWeb's seamless integration enhances the memorization process for learners.

AnkiWeb revolutionizes how learners engage with and retain English vocabulary.

Benefit from AnkiWeb's comprehensive tools for mastering English word lists.

AnkiWeb simplifies the complexities of learning and remembering English words.

Maximize your learning potential through AnkiWeb's targeted vocabulary practice.

Join the journey to improving your English skills with AnkiWeb's innovative features.

Experience a new era of vocabulary mastery with AnkiWeb's cutting-edge technology.

AnkiWeb empowers users with a structured approach to expanding their English vocabulary.

Elevate your language proficiency by embracing AnkiWeb as your go-to study companion.

AnkiWeb: Your key to unlocking a world of enriched English vocabulary knowledge.
