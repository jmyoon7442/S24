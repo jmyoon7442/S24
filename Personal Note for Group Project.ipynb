{
  "nbformat": 4,
  "nbformat_minor": 0,
  "metadata": {
    "colab": {
      "provenance": [],
      "authorship_tag": "ABX9TyMA7sXEIscl1VrjGs0t2X9f",
      "include_colab_link": true
    },
    "kernelspec": {
      "name": "python3",
      "display_name": "Python 3"
    },
    "language_info": {
      "name": "python"
    }
  },
  "cells": [
    {
      "cell_type": "markdown",
      "metadata": {
        "id": "view-in-github",
        "colab_type": "text"
      },
      "source": [
        "<a href=\"https://colab.research.google.com/github/jmyoon7442/S24/blob/main/Personal%20Note%20for%20Group%20Project.ipynb\" target=\"_parent\"><img src=\"https://colab.research.google.com/assets/colab-badge.svg\" alt=\"Open In Colab\"/></a>"
      ]
    },
    {
      "cell_type": "markdown",
      "source": [
        "\n",
        "🔗 Github account of Group 5\n",
        "\n",
        "+ 윤정민  https://github.com/jmyoon7442\n",
        "+ 이다혜  https://github.com/dhlee3146\n",
        "+ 노하정  https://github.com/Norhajeong\n",
        "+ Repository  https://github.com/dhlee3146/Group-5\n",
        "\n",
        "\n",
        "📋 일정\n",
        "\n",
        "+ 4/9 Tue 발표"
      ],
      "metadata": {
        "id": "lfhGZSddd8BN"
      }
    }
  ]
}