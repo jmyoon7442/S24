{
  "nbformat": 4,
  "nbformat_minor": 0,
  "metadata": {
    "colab": {
      "provenance": [],
      "authorship_tag": "ABX9TyO7ftxMQ+J6zakAb5gCYoLc",
      "include_colab_link": true
    },
    "kernelspec": {
      "name": "python3",
      "display_name": "Python 3"
    },
    "language_info": {
      "name": "python"
    }
  },
  "cells": [
    {
      "cell_type": "markdown",
      "metadata": {
        "id": "view-in-github",
        "colab_type": "text"
      },
      "source": [
        "<a href=\"https://colab.research.google.com/github/jmyoon7442/S24/blob/main/Personal%20Note%20for%20Group%20Project.ipynb\" target=\"_parent\"><img src=\"https://colab.research.google.com/assets/colab-badge.svg\" alt=\"Open In Colab\"/></a>"
      ]
    },
    {
      "cell_type": "markdown",
      "source": [
        "\n",
        "🔗 Github account of Group 5\n",
        "\n",
        "+ 윤정민  https://github.com/jmyoon7442\n",
        "+ 이다혜  https://github.com/dhlee3146\n",
        "+ 노하정  https://github.com/Norhajeong\n",
        "+ Repository  https://github.com/dhlee3146/Group-5\n",
        "\n",
        "\n",
        "📋 일정\n",
        "\n",
        "+ 4/9 Tue 발표\n",
        "\n",
        "\n",
        "---\n",
        "\n",
        "\n",
        "##Script for Video (Gernerated by Steave AI)\n",
        "\n",
        "Introduction: AnkiWeb - A powerful digital tool for enhancing English vocabulary.\n",
        "\n",
        "AnkiWeb facilitates efficient memorization of English words through digital practice.\n",
        "\n",
        "Engage in effective vocabulary learning with AnkiWeb's user-friendly interface.\n",
        "\n",
        "AnkiWeb offers versatility in practicing and retaining English vocabulary.\n",
        "\n",
        "Personalize your English learning journey using AnkiWeb's adaptable features.\n",
        "\n",
        "AnkiWeb streamlines the process of memorizing English words for learners.\n",
        "\n",
        "Enhance your English vocabulary skills with the interactive platform of AnkiWeb.\n",
        "\n",
        "AnkiWeb optimizes vocabulary retention through spaced repetition techniques.\n",
        "\n",
        "Discover the convenience of AnkiWeb for mastering English vocabulary effectively.\n",
        "\n",
        "AnkiWeb's digital tool empowers learners to excel in English word memorization.\n",
        "\n",
        "Efficiently boost your English vocabulary proficiency with AnkiWeb's innovative approach.\n",
        "\n",
        "AnkiWeb provides a dynamic and engaging method to enhance English word retention.\n",
        "\n",
        "Unlock the potential of your English vocabulary growth using AnkiWeb.\n",
        "\n",
        "Experience accelerated progress in mastering English vocabulary with AnkiWeb.\n",
        "\n",
        "AnkiWeb's seamless integration enhances the memorization process for learners.\n",
        "\n",
        "AnkiWeb revolutionizes how learners engage with and retain English vocabulary.\n",
        "\n",
        "Benefit from AnkiWeb's comprehensive tools for mastering English word lists.\n",
        "\n",
        "AnkiWeb simplifies the complexities of learning and remembering English words.\n",
        "\n",
        "Maximize your learning potential through AnkiWeb's targeted vocabulary practice.\n",
        "\n",
        "Join the journey to improving your English skills with AnkiWeb's innovative features.\n",
        "\n",
        "Experience a new era of vocabulary mastery with AnkiWeb's cutting-edge technology.\n",
        "\n",
        "AnkiWeb empowers users with a structured approach to expanding their English vocabulary.\n",
        "\n",
        "Elevate your language proficiency by embracing AnkiWeb as your go-to study companion.\n",
        "\n",
        "AnkiWeb: Your key to unlocking a world of enriched English vocabulary knowledge.\n"
      ],
      "metadata": {
        "id": "lfhGZSddd8BN"
      }
    }
  ]
}